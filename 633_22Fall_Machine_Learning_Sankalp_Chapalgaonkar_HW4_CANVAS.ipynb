{
  "nbformat": 4,
  "nbformat_minor": 0,
  "metadata": {
    "colab": {
      "provenance": []
    },
    "kernelspec": {
      "display_name": "Python 3",
      "name": "python3"
    }
  },
  "cells": [
    {
      "cell_type": "markdown",
      "metadata": {
        "id": "5D48bskJS25M"
      },
      "source": [
        "\n",
        "# CSCE633 Fall 2022 (Total 100 pts)\n",
        "\n",
        "**Machine Learning**\n",
        "\n",
        "**Homework 4**\n",
        "\n",
        "Instructor: Yoonsuck Choe\n",
        "\n",
        "Nov 4, 2022\n",
        "\n",
        "\n",
        "---"
      ]
    },
    {
      "cell_type": "markdown",
      "metadata": {
        "id": "PTadtehSTEem"
      },
      "source": [
        "**Student name: ** Chapalgaonkar, Sankalp\n",
        "\n",
        "\n",
        "---"
      ]
    },
    {
      "cell_type": "markdown",
      "metadata": {
        "id": "seH0_JOMTS2c"
      },
      "source": [
        "# Common instructions (Read carefully)"
      ]
    },
    {
      "cell_type": "markdown",
      "metadata": {
        "id": "VRafXus3T2bg"
      },
      "source": [
        "**Submission:**\n",
        "\n",
        "1. After you complete each section, \"Save and pin\" the revision. (**File -> Save and pin revision**). \n",
        "> There will be a 20-point penalty for not including revision history in the submission as instructed below.\n",
        "2. When you're ready to submit, \n",
        "> 1. download the ipynb file (**File -> Download .ipynb**).\n",
        "> 2. take screenshot of revision history, by comparing each successive pinned revisions (there will be several of these: final vs. latest pin, latest pin vs. previous pin, etc.). (**File -> Revision history**, then click on the radio buttons for pinned revisions to compare. Scroll down to the part that shows the major revised part, and take a screenshot. No need to show the entire revision history.)\n",
        "> 3. submit a zip file **lastname-firstname.zip** containing the ipynb file and all revision screenshots.\n",
        "\n",
        "**Using the markup language in the \"text\" boxes:**\n",
        "\n",
        "Note: See https://colab.research.google.com/notebooks/markdown_guide.ipynb#scrollTo=70pYkR9LiOV0 for how to use the markdown when writing your answer in the text boxes.\n",
        "\n",
        "**NEW: Including images/screenshots**\n",
        "\n",
        "When including screenshots directly into the text cell, the markup source can get too long. To avoid this, you can upload your images to good drive, make them publicly viewable, get the share link, get the id string  from the link (for example, 1IDUkDGqQ1xSKOT3Wg8SKgAlKsDIdUQUy), and insert a tag like below:  \n",
        "```\n",
        "<img src=\"https://drive.google.com/uc?export=view&id=1IDUkDGqQ1xSKOT3Wg8SKgAlKsDIdUQUy\"> \n",
        "```"
      ]
    },
    {
      "cell_type": "markdown",
      "metadata": {
        "id": "M2s4WcOkUAWc"
      },
      "source": [
        "# Section I: Dimensionality Reduction"
      ]
    },
    {
      "cell_type": "markdown",
      "metadata": {
        "id": "yEQeQmGMpAc6"
      },
      "source": [
        "**Problem 1 (Written: 10pts):** \n",
        "\n",
        "Consider the data sets below: Data set 1 = Spiral data, Data set 2 = Point cloud data, and Data set 3 = simple data. You can plot the data first. \n",
        "- Plot the first column in the data against the second column\n",
        "``` D1[:,0] , D1[:,1] ```\n",
        "- Make sure you use aspect ratio of 1 when plotting, so that the x- and y-axis have the same scale.\n",
        "```\n",
        "fig=plt.figure()\n",
        "ax=fig.add_subplot(1,1,1)\n",
        "ax.set_aspect(1)\n",
        "plt.plot(....)\n",
        "```\n",
        "- Use \".\" for plotting style:  \n",
        "```plt.plot(...,\".\") ```\n",
        "\n",
        "(1) Which of the three data sets D1, D2, and D3 would be the most appropriate for PCA analysis, in terms of dimensionality reduction (2D to 1D)? Explain why.\n",
        "\n",
        "(2) Which of the three data sets D1, D2, and D3 would be the least appropriate for  PCA analysis, in terms of dimensionality reduction (2D to 1D)? Explain why.\n",
        "\n",
        "**Hint:** \n",
        "- Although the data are not labled into different classes, you may be able to \"see\" two possible groups of points in each data set. When you use  PCA to project all the data points to the PCA space (using the 1st and 2nd principal component vectors), would you be able to distinguish the two groups, just based on the 1st principal component axis? \n",
        "- Also, you can think about the variance in the original data (along the two axes) and the variance in the resulting projection (along the two principal component axes). \n",
        "\n"
      ]
    },
    {
      "cell_type": "markdown",
      "metadata": {
        "id": "njzmqsUMKRzE"
      },
      "source": [
        "**Answer:**\n",
        "\n",
        "Fill out the code cell below for the plot, and enter your answer here:\n",
        "\n",
        "(1) D3 would be the best option for PCA analysis dimensionality reduction (from two dmensions to 1 dimension). With respect to D3, the perpendicular axis has a lower variance than the diagonal axis. Hence based on based on the first principal component axis, we can confirm that D3 would be the most appropriate data for PCA ama;ysis in terms of dimensionality reduction.\n",
        "\n",
        "(2) In D1 dataset (spiral one), the data is very evenly situated and hence it becomes very difficult to decide which access should be the primary component axis for principal componant analysis. For Spiral datasets we usually use manifold learning for dimensionality reduction as manifold learning uses geodesic distance instead of euclidean distance.\n"
      ]
    },
    {
      "cell_type": "code",
      "metadata": {
        "id": "KWR8LeoSh2zm",
        "colab": {
          "base_uri": "https://localhost:8080/",
          "height": 761
        },
        "outputId": "4488f951-c495-4c9f-8926-d8b8b1a2f845"
      },
      "source": [
        "import numpy as np\n",
        "import matplotlib.pyplot as plt\n",
        "\n",
        "\n",
        "#--------------------\n",
        "def spiral_1(t):\n",
        "#--------------------\n",
        "  '''\n",
        "  parametric curve of a spiral : clockwise\n",
        "  '''\n",
        "  rand_factor = 1.0\n",
        "\n",
        "  dat   = np.array([(t+1)*np.sin(t+5), (t+1)*np.cos(t+5)])\n",
        "  noise = np.random.rand(2,len(dat[0,:]))*rand_factor\n",
        "  return (dat+noise-0.5)/7.5\n",
        "\n",
        "\n",
        "\"\"\"\n",
        "Data set 1 : D1 = spiral like data\n",
        "\n",
        "- This is a variation on the parametric plot for a circle [cos(t), sin(t)], with a gradually increasing radius. \n",
        "\"\"\"\n",
        "\n",
        "# data set 1 [x, y]\n",
        "\n",
        "t = np.arange(0, 6*np.pi, 0.1)\n",
        "D1 =  np.transpose(spiral_1(t))\n",
        "\n",
        "# Plot it\n",
        "# -- add your plotting code here\n",
        "# plot\n",
        "fig = plt.figure() \n",
        "ax = fig.add_subplot(111)\n",
        "ax.plot(D1[:,0] , D1[:,1],'.')  \n",
        "ax.set_aspect(1.0) # set aspect ratio to 1.0\n",
        "\n",
        "\"\"\"\n",
        "Data set 2 : D2 = point cloud data (normal distribution)\n",
        "\"\"\"\n",
        "\n",
        "x = np.append(np.random.normal(0,1,400),   np.random.normal(5.3,2,400))\n",
        "y = np.append(np.random.normal(0,1,400),   np.random.normal(5.3,2,400))\n",
        "\n",
        "D2 = np.vstack((x,y)).T\n",
        "\n",
        "# Plot it \n",
        "# -- add your plotting code here\n",
        "fig = plt.figure() \n",
        "ax = fig.add_subplot(111)\n",
        "ax.plot(D2[:,0] , D2[:,1],'.')  \n",
        "ax.set_aspect(1.0) # set aspect ratio to 1.0\n",
        "\n",
        "\"\"\"\n",
        "Data set 3: D3 = simple data\n",
        "\"\"\"\n",
        "\n",
        "D3 = np.array([[-1, -1], [-2, -1], [-3, -2], [1, 1], [2, 1], [3, 2]])\n",
        "\n",
        "# Plot it\n",
        "# -- add your plotting code here : use aspect ratio 1 (see below)\n",
        "fig = plt.figure() \n",
        "ax = fig.add_subplot(111)\n",
        "ax.plot(D3[:,0] , D3[:,1],'.')  \n",
        "ax.set_aspect(1.0) # set aspect ratio to 1.0\n"
      ],
      "execution_count": null,
      "outputs": [
        {
          "output_type": "display_data",
          "data": {
            "text/plain": [
              "<Figure size 432x288 with 1 Axes>"
            ],
            "image/png": "[encoded data removed]"
          },
          "metadata": {
            "needs_background": "light"
          }
        },
        {
          "output_type": "display_data",
          "data": {
            "text/plain": [
              "<Figure size 432x288 with 1 Axes>"
            ],
            "image/png": "[encoded data removed]"
          },
          "metadata": {
            "needs_background": "light"
          }
        },
        {
          "output_type": "display_data",
          "data": {
            "text/plain": [
              "<Figure size 432x288 with 1 Axes>"
            ],
            "image/png": "[encoded data removed]"
          },
          "metadata": {
            "needs_background": "light"
          }
        }
      ]
    },
    {
      "cell_type": "code",
      "source": [
        "# Example plotting code\n",
        "\n",
        "# data \n",
        "x = np.random.normal(0,1,400)\n",
        "y = np.random.normal(0,1,400)\n",
        "\n",
        "# plot\n",
        "fig = plt.figure() \n",
        "ax = fig.add_subplot(111)\n",
        "ax.plot(x,y,'.')  \n",
        "ax.set_aspect('equal') # set aspect ratio to 1.0"
      ],
      "metadata": {
        "colab": {
          "base_uri": "https://localhost:8080/",
          "height": 268
        },
        "id": "XvyMvLUBV1lA",
        "outputId": "b4532d8a-a972-40c7-a443-24b459fd5e10"
      },
      "execution_count": null,
      "outputs": [
        {
          "output_type": "display_data",
          "data": {
            "text/plain": [
              "<Figure size 432x288 with 1 Axes>"
            ],
            "image/png": "[encoded data removed]"
          },
          "metadata": {
            "needs_background": "light"
          }
        }
      ]
    },
    {
      "cell_type": "markdown",
      "metadata": {
        "id": "awK0qdPXnZ45"
      },
      "source": [
        "**Problem 2 (Program: 15pt)**\n",
        "\n",
        "Use scikit learn's PCA package to analyze the data set from problem 1. Use the template below.\n",
        "\n",
        "```\n",
        "from sklearn.decomposition import PCA\n",
        "\n",
        "X = .... # data (you can reuse D1, D2, D3 from above (Problem 1)\n",
        "\n",
        "# plot X : X[:,0] against X[:,1]\n",
        "\n",
        "pca = PCA(n_components=2)\n",
        "pca.fit(X)\n",
        "print(pca.singular_values_)\n",
        "\n",
        "Z = pca.fit_transform(X)\n",
        "\n",
        "\n",
        "# plot Z : Z[:,0] against Z[:,1]\n",
        "\n",
        "```\n",
        "\n",
        "For each of the three data sets D1, D2, D3: \n",
        "\n",
        "(1) [1pt] Plot the original data set (X). Fix aspect ratio to 1. \n",
        "\n",
        "(2) [1pt] Plot the projected data set (Z). Fix aspect ratio to 1. \n",
        "\n",
        "(3) [2pt] Compare the variance along the first and second principal component vectors (```pca.singular_values_```) for each data set.\n",
        "\n",
        "- D1: \n",
        "- D2:\n",
        "- D3: \n",
        "\n",
        "(4) [6pt] Comment on how these results relate to your answers in Problem 1. \n",
        "\n",
        "\n",
        "\n"
      ]
    },
    {
      "cell_type": "markdown",
      "metadata": {
        "id": "cLLWW8Z_qnjJ"
      },
      "source": [
        "**Answer:**\n",
        "\n",
        "Fill out the code in the code cell below, and enter your answer here: \n",
        "\n",
        "(1) Just refer to the code below. \n",
        "\n",
        "(2) Just refer to the code below.\n",
        "\n",
        "(3) Following are the variance along the first and second principal component vectors respectively for all the three datasets\n",
        "\n",
        "    D1: [15.7394149, 14.55217049]\n",
        "    D2: [114.80783262, 42.84167522]\n",
        "    D3: [6.30061232, 0.54980396]\n",
        "\n",
        "(4)\n",
        "* The variance of the first and second principal component axes is [15.7394149, 14.55217049]. Variance is large for both the primary axes and they are practically identical, thus it does not outperform the current axis. As a result, this shows that the data spread is insufficient for computing PCA.\n",
        "* For D2 dataset, the variance of the first and second principal component axes is [114.80783262, 42.84167522]. This dataset has a significant variation in the first axis but a moderate variance in the second. However, it is far from the best example for computing PCA.\n",
        "* For D3 dataset, the variance of the first and second principal component axes is [6.30061232, 0.54980396]. This dataset exhibits low variance at the first principle component axis but extremely low variance at the second principal component axis and is nearly comparable to 0, indicating the usage of that one axis since the variation is fully biased towards that primary axis. As a result, the D3 is the optimum choice for computing PCA.\n"
      ]
    },
    {
      "cell_type": "code",
      "metadata": {
        "colab": {
          "base_uri": "https://localhost:8080/",
          "height": 549
        },
        "id": "LUT3C6MCtfN8",
        "outputId": "1104ca15-bae4-40e8-c83b-8b95794dd997"
      },
      "source": [
        "\"\"\"\n",
        "Write your PCA code here, and plot the original data and the projected data \n",
        "\"\"\"\n",
        "\n",
        "from sklearn.decomposition import PCA\n",
        "import numpy as np\n",
        "import matplotlib.pyplot as plt\n",
        "\n",
        "# X = np.array([[-1, -1], [1,1]]) # data (you can reuse D1, D2, D3 from above (Problem 1)\n",
        "\n",
        "# IMPLEMENT THIS: plot the input X here : X[:,0] against X[:,1]\n",
        "fig = plt.figure() \n",
        "ax = fig.add_subplot(111)\n",
        "ax.plot(D1[:,0] , D1[:,1],'.')  \n",
        "ax.set_aspect(1.0) # set aspect ratio to 1.0\n",
        "\n",
        "# 1. set up with input dimension = 2\n",
        "pca_d1 = PCA(n_components=2)\n",
        "pca_d1.fit(D1)\n",
        "\n",
        "print(\"Variance along the principal and secondary component axis for dataset D1 are:\")\n",
        "print(pca_d1.singular_values_)\n",
        "\n",
        "Z = pca_d1.fit_transform(D1)\n",
        "\n",
        "fig = plt.figure() \n",
        "ax = fig.add_subplot(111)\n",
        "ax.plot(Z[:,0] , Z[:,1],'.') \n",
        "ax.set_aspect(1.0) # set aspect ratio to 1.0\n",
        "\n"
      ],
      "execution_count": null,
      "outputs": [
        {
          "output_type": "stream",
          "name": "stdout",
          "text": [
            "Variance along the principal and secondary component axis for dataset D1 are:\n",
            "[15.78354674 14.60317572]\n"
          ]
        },
        {
          "output_type": "display_data",
          "data": {
            "text/plain": [
              "<Figure size 432x288 with 1 Axes>"
            ],
            "image/png": "[encoded data removed]"
          },
          "metadata": {
            "needs_background": "light"
          }
        },
        {
          "output_type": "display_data",
          "data": {
            "text/plain": [
              "<Figure size 432x288 with 1 Axes>"
            ],
            "image/png": "[encoded data removed]"
          },
          "metadata": {
            "needs_background": "light"
          }
        }
      ]
    },
    {
      "cell_type": "code",
      "source": [
        "import numpy as np\n",
        "import matplotlib.pyplot as plt\n",
        "# Implementation for D2\n",
        "fig = plt.figure() \n",
        "ax = fig.add_subplot(111)\n",
        "ax.plot(D2[:,0] , D2[:,1],'.')  \n",
        "ax.set_aspect(1.0) # set aspect ratio to 1.0\n",
        "\n",
        "pca_d2 = PCA(n_components=2)\n",
        "\n",
        "pca_d2.fit(D2)\n",
        "print(\"Variance along the principal and secondary component axis for dataset D2 are:\")\n",
        "print(pca_d2.singular_values_)\n",
        "\n",
        "Z2 = pca_d2.fit_transform(D2)\n",
        "\n",
        "fig = plt.figure() \n",
        "ax = fig.add_subplot(111)\n",
        "ax.plot(Z2[:,0] , Z2[:,1],'.')  \n",
        "ax.set_aspect(1.0) # set aspect ratio to 1.0"
      ],
      "metadata": {
        "colab": {
          "base_uri": "https://localhost:8080/",
          "height": 549
        },
        "id": "pSiZAKJvQ_0O",
        "outputId": "db585d20-a893-416d-e465-ad39b0310854"
      },
      "execution_count": null,
      "outputs": [
        {
          "output_type": "stream",
          "name": "stdout",
          "text": [
            "Variance along the principal and secondary component axis for dataset D2 are:\n",
            "[113.89569827  43.48665816]\n"
          ]
        },
        {
          "output_type": "display_data",
          "data": {
            "text/plain": [
              "<Figure size 432x288 with 1 Axes>"
            ],
            "image/png": "[encoded data removed]"
          },
          "metadata": {
            "needs_background": "light"
          }
        },
        {
          "output_type": "display_data",
          "data": {
            "text/plain": [
              "<Figure size 432x288 with 1 Axes>"
            ],
            "image/png": "[encoded data removed]"
          },
          "metadata": {
            "needs_background": "light"
          }
        }
      ]
    },
    {
      "cell_type": "code",
      "source": [
        "import numpy as np\n",
        "import matplotlib.pyplot as plt# Implementation for D3\n",
        "\n",
        "fig = plt.figure() \n",
        "ax = fig.add_subplot(111)\n",
        "ax.plot(D3[:,0] , D3[:,1],'.')  \n",
        "ax.set_aspect(1.0) # set aspect ratio to 1.0\n",
        "\n",
        "pca_d3 = PCA(n_components=2)\n",
        "\n",
        "pca_d3.fit(D3)\n",
        "print(\"Variance along the principal and secondary component axis for dataset D3 are:\")\n",
        "print(pca_d3.singular_values_)\n",
        "\n",
        "Z3 = pca_d3.fit_transform(D3)\n",
        "\n",
        "fig = plt.figure() \n",
        "ax = fig.add_subplot(111)\n",
        "ax.plot(Z3[:,0] , Z3[:,1],'.')  \n",
        "ax.set_aspect(1.0) # set aspect ratio to 1.0"
      ],
      "metadata": {
        "colab": {
          "base_uri": "https://localhost:8080/",
          "height": 360
        },
        "id": "Ku39xYf_RVqt",
        "outputId": "cdc1db31-d936-40dd-dc09-2581b1b9760f"
      },
      "execution_count": null,
      "outputs": [
        {
          "output_type": "stream",
          "name": "stdout",
          "text": [
            "Variance along the principal and secondary component axis for dataset D3 are:\n",
            "[6.30061232 0.54980396]\n"
          ]
        },
        {
          "output_type": "display_data",
          "data": {
            "text/plain": [
              "<Figure size 432x288 with 1 Axes>"
            ],
            "image/png": "[encoded data removed]"
          },
          "metadata": {
            "needs_background": "light"
          }
        },
        {
          "output_type": "display_data",
          "data": {
            "text/plain": [
              "<Figure size 432x288 with 1 Axes>"
            ],
            "image/png": "[encoded data removed]"
          },
          "metadata": {
            "needs_background": "light"
          }
        }
      ]
    },
    {
      "cell_type": "markdown",
      "metadata": {
        "id": "k4vN-kIzbuaB"
      },
      "source": [
        "**Problem 3 (Written: 15 pts):**\n",
        "\n",
        "(1) Explain why manifold learning can effectively handle data like the data set D1 in Problem 1 (the spiral data). [5pt]\n",
        "\n",
        "(2) For the spiral data (data set D1), what would be an appropriate $\\epsilon$ value for use in ISOMAP? Give a specific value as your answer (e.g. $\\epsilon = 2.5$), and explain your reasoning. **Hint:** By eyeballing the data, you can see that $\\epsilon$ cannot be less than a certain value (graph will be disconnected), while it cannot be greater than a certain value (points across different parts of the spiral will be connected), in order to recover the manifold structure. Pick a number between these two bounds.  [10pt] \n"
      ]
    },
    {
      "cell_type": "markdown",
      "metadata": {
        "id": "-cNhbGxUh4AZ"
      },
      "source": [
        "**Answer:**\n",
        "\n",
        "(1)\n",
        "Manifold learning is a non-linear dimensionality reduction technique. When given a collection of data, PCA determines the directions with the maximum variance in the data as well as their relative importance. Consider the scenario where PCA is fed a set of three-dimensional points that are all located on a two-dimensional plane. PCA will produce a third vector that is orthogonal to the plane along with two vectors that span the plane. The two vectors that span the plane will be given a positive weight, but the third vector will have a weight of zero, since the data does not vary along that direction. When data is on or near a linear sub-space of the data set, PCA is most useful. With this kind of information, PCA will establish a foundation for the linear subspace and enable the removal of the unimportant characteristics.\n",
        "\n",
        "We are projecting the data onto a low-dimensional surface using PCA. But because all of those surfaces are linear, this is restrictive. PCA will undoubtedly not work for datasets when the best representation is found on an oddly shaped surface. PCA wouldn't be particularly effective in the case of spiral datasets because it will search for a flat surface to explain this data. The lack of a planar surface is the issue, though. Consequently, we arrive at a less-than-ideal representation of the data. This issue is effectively resolved via manifold learning.\n",
        "\n",
        "Euclidean distance is the shortest distance between two points in the space, whereas, Geodesic distance is the distance between two points following the shortest path along the manifold. Since Euclidean distance only takes into account numerical differences between the points, we must employ the geodesic distance in order to identify the manifold. It doesn't take the shape of the space into account. Geodesic distance, on the other hand, takes the nearby points into account while calculating the distance. Eucleadian distances (and hence the PCA) will not work for a dataset like D1 because it has a spiral structure, so we utilize manifold learning instead.\n",
        "\n",
        "(2)\n",
        "You can see from the data that 𝜖 cannot be less than 0.2 and cannot be greater than 0.6 in order to reconstruct the manifold structure for use in ISOMAP. As a result, choosing $=0.45$ would be a good option for ISOMAP. The explanation is depicted in the diagram that follows.\n",
        "\n",
        "<img src=\"https://drive.google.com/uc?export=view&id=1xLtmgSyjxN3H1qBhK-XwXHZZsWwELpJy\"> \n",
        "\n",
        "If epsilon is less than 0.2 then the datapoints in the neighborhood will not be connected and if epilon is more than 0.6, it will connect the points which lie on the different parts (other than neighbors). Here the value 0.2 should be included as we need to connect the neighbors. On the other hand the value 0.6 should be excluded as the points residing in two different parts (spiral lines) should not be connected to each other.\n",
        "\n"
      ]
    },
    {
      "cell_type": "markdown",
      "metadata": {
        "id": "7wfL4SFjCmx3"
      },
      "source": [
        "# Section II: Conditional Independence "
      ]
    },
    {
      "cell_type": "markdown",
      "metadata": {
        "id": "pY-hX8jtpknb"
      },
      "source": [
        "**Problem 4 (Written: 10pts)**\n",
        "\n",
        "Consider three binary variables $a, b, c \\in \\{0,1\\}$ having the\n",
        "joint probability distribution given in the table below. Show by direct\n",
        "evaluation that this distribution has the property that $a$ and $b$ are \n",
        "dependent, so that $P(a,b) \\neq P(a)p(b)$, but that they become independent\n",
        "when conditioned on $c$, so that $ P(a,b|c) = P(a|c)p(b|c)$ for both\n",
        "$c=0$ and $c=1$ [adapted from C. M. Bishop, *Pattern Recognition and Machine Learning*, Springer, 2006].\n",
        "\n",
        "> $a$ | $b$ | $c$ | P($a$,$b$,$c$)\n",
        "> --- | --- | --- | ---\n",
        "> 0 | 0 | 0 | 0.375 \n",
        "> 0 | 0 | 1 | <strike>0.005</strike> 0.05 (typo fixed!)\n",
        "> 0 | 1 | 0 | 0.041667 \n",
        "> 0 | 1 | 1 | 0.075\n",
        "> 1 | 0 | 0 | 0.075 \n",
        "> 1 | 0 | 1 | 0.15\n",
        "> 1 | 1 | 0 | 0.008333\n",
        "> 1 | 1 | 1 | 0.225\n"
      ]
    },
    {
      "cell_type": "markdown",
      "metadata": {
        "id": "mHSXXDrciHRj"
      },
      "source": [
        "**Answer:**\n",
        "\n",
        "$$P(a=0) = 0.375+0.05+0.041667+0.075 = 0.541667$$\n",
        "$$P(a=1) = 0.075+0.15+0.008333+0.225 = 0.458333$$\n",
        "$$P(b=0) = 0.375+0.05+0.075+0.15 = 0.65$$\n",
        "$$P(b=1) = 0.041667+0.075+0.008333+0.225 = 0.35$$\n",
        "\n",
        "$$P(a=0, b=0) = 0.375+0.05 = 0.425$$\n",
        "$$P(a=0, b=1) = 0.041667+0.075 = 0.116667$$\n",
        "$$P(a=1, b=0) = 0.075+0.15 = 0.225$$\n",
        "$$P(a=1, b=1) = 0.008333+0.225 = 0.233333$$\n",
        "\n",
        "Tabulate your results in the following format:\n",
        "\n",
        "> $a$ | $b$ | P($a$,$b$) | P($a$)P($b$)\n",
        "> --- | --- | --- | ---\n",
        "> 0 | 0 | p(a=0,b=0) = 0.425| 0.35208355\n",
        "> 0 | 1 | p(a=0,b=1) = 0.116667 | 0.18958345\n",
        "> 1 | 0 | p(a=1,b=0) = 0.225| 0.29791645\n",
        "> 1 | 1 | p(a=1,b=1) = 0.233333| 0.16041655\n",
        "\n",
        "As $P(a,b) \\neq P(a)p(b)$, a and b are dependent\n",
        "\n",
        "$$P(c=0) = 0.375+0.041667+0.075+0.008333 = 0.5$$\n",
        "$$P(c=1) = 0.05+0.075+0.15+0.225 = 0.5$$\n",
        "\n",
        "$$p(a=0,b=0|c=0) = \\frac{p(a=0,b=0,c=0)}{P(c=0)} = \\frac{0.375}{0.5} = 0.75$$\n",
        "\n",
        "$$p(a=0,b=0|c=1) = \\frac{p(a=0,b=0,c=1)}{P(c=1)} = \\frac{0.05}{0.5} = 0.1$$\n",
        "\n",
        "$$p(a=0,b=1|c=0) = \\frac{p(a=0,b=1,c=0)}{P(c=0)} = \\frac{0.041667}{0.5} = 0.083334$$\n",
        "\n",
        "$$p(a=0,b=1|c=1) = \\frac{p(a=0,b=1,c=1)}{P(c=1)} = \\frac{0.075}{0.5} = 0.15$$\n",
        "\n",
        "$$p(a=1,b=0|c=0) = \\frac{p(a=1,b=0,c=0)}{P(c=0)} = \\frac{0.075}{0.5} = 0.15$$\n",
        "\n",
        "$$p(a=1,b=0|c=1) = \\frac{p(a=1,b=0,c=1)}{P(c=1)} = \\frac{0.15}{0.5} = 0.3$$\n",
        "\n",
        "$$p(a=1,b=1|c=0) = \\frac{p(a=1,b=1,c=0)}{P(c=0)} = \\frac{0.008333}{0.5} = 0.016666$$\n",
        "\n",
        "$$p(a=1,b=1|c=1) = \\frac{p(a=1,b=1,c=1)}{P(c=1)} = \\frac{0.225}{0.5} = 0.45$$\n",
        "\n",
        "$$P(a=0, c=0) = 0.375+ 0.041667 = 0.416667$$\n",
        "$$P(a=0, c=1) = 0.05+0.075 = 0.125$$\n",
        "$$P(a=1, c=0) = 0.075+0.008333 = 0.083333$$\n",
        "$$P(a=1, c=1) = 0.15+0.225 = 0.375$$\n",
        "\n",
        "$$P(b=0, c=0) = 0.375+0.075 = 0.45$$\n",
        "$$P(b=0, c=1) = 0.15+0.075 = 0.225$$\n",
        "$$P(b=1, c=0) = 0.041667+0.008333 = 0.05$$\n",
        "$$P(b=1, c=1) = 0.075+0.225 = 0.3$$\n",
        "\n",
        "$$P(a=0|c=0) = \\frac{P(a=0,c=0)}{P(c=0)} = \\frac{0.416667}{0.5} = 0.833334$$\n",
        "$$P(b=0|c=0) = \\frac{P(b=0,c=0)}{P(c=0)} = \\frac{0.45}{0.5} = 0.9$$\n",
        "$$P(a=0|c=0)(b=0|c=0) = 0.833334 * 0.9 = 0.75$$\n",
        "\n",
        "\n",
        "Likewise calculated for everything else\n",
        "\n",
        "\n",
        "> $a$ | $b$ | $c$ | P($a$,$b$$\\mid$$c$) | P($a|c$)P($b|c$)\n",
        "> --- | --- | --- | --- | ---\n",
        "> 0 | 0 | 0 | p(a=0,b=0\\|c=0) = 0.75 | 0.75\n",
        "> 0 | 0 | 1 | p(a=0,b=0\\|c=1) = 0.1 | 0.1\n",
        "> 0 | 1 | 0 | p(a=0,b=1\\|c=0) = 0.083334 | 0.083334\n",
        "> 0 | 1 | 1 | p(a=0,b=1\\|c=1) = 0.15 | 0.15\n",
        "> 1 | 0 | 0 | p(a=1,b=0\\|c=0) = 0.15 | 0.15\n",
        "> 1 | 0 | 1 | p(a=1,b=0\\|c=1) = 0.3 | 0.3\n",
        "> 1 | 1 | 0 | p(a=1,b=1\\|c=0) = 0.016666 | 0.016666\n",
        "> 1 | 1 | 1 | p(a=1,b=1\\|c=1) = 0.45 | 0.45\n",
        "\n",
        "As the values of $P(a,b|c) = P(a|c)P(b|c)$ for all different values of a, b, c. Hence a and b become independent when conditioned on 𝑐"
      ]
    },
    {
      "cell_type": "markdown",
      "metadata": {
        "id": "Vqt09dt6Gvz4"
      },
      "source": [
        "**Program 5 (Written: 10pts)**\n",
        "\n",
        "How is the above result related to the concept of conditional independence $P(a|b,c) = P(a|c)$, $a$ is independent from $b$ given $c$? (derive $P(a|b,c) = P(a|c)$ if $ P(a,b|c) = P(a|c)p(b|c)$: **DO NOT** simply plug in the probability values from above."
      ]
    },
    {
      "cell_type": "markdown",
      "metadata": {
        "id": "5HIBxBZnjQXG"
      },
      "source": [
        "**Answer**:\n",
        "\n",
        "Given $P(a,b|c) = P(a|c)P(b|c)$\n",
        "\n",
        "Show $P(a|b,c) = \\frac{P(a,b,c)}{P(b,c)} = P(a|c)$\n",
        "\n",
        "Derivation is as shown in the following figure\n",
        "\n",
        "<img src=\"https://drive.google.com/uc?export=view&id=1tzIOMEadiIn3pEJwuW5z9r7ELOlj39u7\"> "
      ]
    },
    {
      "cell_type": "markdown",
      "metadata": {
        "id": "klTShQ_9I7ia"
      },
      "source": [
        "# Section III: Naive Bayes Classifier\n",
        "\n",
        "\n"
      ]
    },
    {
      "cell_type": "markdown",
      "metadata": {
        "id": "-KYkXn-mHqod"
      },
      "source": [
        "\n",
        "Consider the data set below, for spam detection. \n",
        "\n",
        "We will use the Naive Bayes Classifier to learn from this data and predict new sentences. \n",
        "\n",
        "> Sentence | Spam\n",
        "> --- | ---  \n",
        "> congrats you are selected | N \n",
        "> congrats you won lottery | Y\n",
        "> travel for free | Y\n",
        "> good credit | N\n",
        "> selected for credit cards | Y\n",
        "> very good | N\n",
        "> free credit cards | Y\n",
        "> good night | N\n",
        "> lottery | Y \n",
        "> good for you | N \n",
        "\n",
        "In this context, each word can be treated as an attribute, and their values will be 0 or 1 depending on the absence or existence of the word in the sentence. \n",
        "\n",
        "For example, \"congrats\" will be attribute $a_0$, \"you\" will be attribute $a_1$, etc. Use the following mapping for the words to attributes:\n",
        "\n",
        "> word | attribute | dictionary index (see python code below)\n",
        "> --- | --- | ---\n",
        "> congrats | $a_0$ | 0\n",
        "> you | $a_1$ | 1\n",
        "> are | $a_2$ | 2\n",
        "> selected | $a_3$ | 3\n",
        "> won | $a_4$ | 4\n",
        "> lottery | $a_5$ | 5\n",
        "> travel | $a_6$ | 6\n",
        "> for | $a_7$ | 7\n",
        "> free | $a_8$ | 8\n",
        "> credit | $a_9$ | 9\n",
        "> cards | $a_{10}$ | 10\n",
        "> very | $a_{11}$ | 11\n",
        "> good | $a_{12}$ | 12\n",
        "> night | $a_{13}$ | 13\n",
        "\n",
        "```\n",
        "dictionary = np.array([\"congrats\",\"you\",\"are\",\"selected\",\"won\",\"lottery\",\"travel\",\"for\",\"free\",\"credit\",\"cards\",\"very\",\"good\",\"night\"])\n",
        "```\n",
        "\n",
        "So, the sentence \"you won free travel\" would be \n",
        "> $\\small (a_0=0, a_1=1, a_2=0, a_3=0, a_4=1, a_5=0, a_6=1, a_7=0, a_8=1, a_9=0, a_{10}=0, a_{11}=0, a_{12}=0, a_{13}=0)$\n",
        "\n",
        "or simply\n",
        "> $\\small (0,1,0,0,1,0,1,0,1,0,0,0,0,0)$\n",
        "\n",
        "So, the probability that \"you won free travel\" is a spam can be written as:\n",
        "> $\\small P(Spam=Yes| a_0=0, a_1=1, a_2=0, a_3=0, a_4=1, a_5=0, a_6=1, a_7=0, a_8=1, a_9=0, a_{10}=0, a_{11}=0, a_{12}=0, a_{13}=0)$\n",
        "\n",
        "or as\n",
        "\n",
        "> $\\small P(Yes|0,1,0,0,1,0,1,0,1,0,0,0,0,0)$.\n",
        "\n",
        "Note that word ordering does not matter, and multiple occurances of the same word is simply represented as 1. \n"
      ]
    },
    {
      "cell_type": "markdown",
      "metadata": {
        "id": "uPL93V3xWQmd"
      },
      "source": [
        "**Problem 6 (Program: 15pt)**\n",
        "\n",
        "Use the skeleton code in the code cell below to train Naive Bayes on the data set (sentence / spam table in the beginning of Section III). \n",
        "\n",
        "Enter the data in the format shown in the code cell below. ```X``` is the input, and ```y``` is the target values. The first entry in each from the sentence/spam table is already entered in the code cell, along with the skeleton code to train and test. \n",
        "\n",
        "To easily verify that you entered the data correctly, write a function to convert the data vector (each row in the numpy array) to a string, and use this to print out your data in a human readable form. Use the ``dictionary`` array provided in the code cell. \n",
        "\n",
        "```\n",
        "def vec2word(vec):\n",
        "   ...\n",
        "   words = ...\n",
        "   ...\n",
        "   return words\n",
        "```\n",
        "\n",
        "(1) Implement the above and train the Naive Bayes Classifier. Report the accuracy. [5pt]\n",
        "\n",
        "(2) Provide 3 test sentences that are classified as \"Spam\" (output = 1). [5pt]\n",
        "\n",
        "- These cannot be from the provided data set above.\n",
        "- Each sentence must be at least 3 words long.\n",
        "\n",
        "(3) Provide 3 test sentences that are classified as \"Not spam\" (output = 0). [5pt]\n",
        "\n",
        "- These cannot be from the provided data set above.\n",
        "- Each sentence must be at least 3 words long.\n",
        "\n",
        "(4) Do you think this kind of approach can scale to a full-blown spam filter for real-life applications? This is an open ended question. [5pt]\n",
        "\n",
        "   "
      ]
    },
    {
      "cell_type": "markdown",
      "metadata": {
        "id": "80VGZpe3XzEQ"
      },
      "source": [
        "**Answer:**\n",
        "\n",
        "(1) Modify the code below and report the results here. \n",
        "\n",
        "(2)\n",
        "\n",
        "(3)\n",
        "\n",
        "(4)"
      ]
    },
    {
      "cell_type": "code",
      "metadata": {
        "colab": {
          "base_uri": "https://localhost:8080/"
        },
        "outputId": "3da3f9d5-de3a-4b7a-e9a8-47b29e9aaea9",
        "id": "k0xiClK93xG3"
      },
      "source": [
        "\n",
        "\n",
        "import numpy as np\n",
        "from sklearn.naive_bayes import MultinomialNB\n",
        "\n",
        "#-------\n",
        "# dictionary, to look up words from the data vector -- case sensitive! \n",
        "#-------\n",
        "dictionary = np.array([\"congrats\",\"you\",\"are\",\"selected\",\"won\",\"lottery\",\"travel\",\"for\",\"free\",\"credit\",\"cards\",\"very\",\"good\",\"night\"])\n",
        "\n",
        "#-------\n",
        "# vec2word: convert data vector to words\n",
        "#-------\n",
        "def vec2word(vec):\n",
        "  print(vec)\n",
        "  out = ''\n",
        "  for i in range(len(vec)):\n",
        "    if vec[i]==1:\n",
        "      out = out + dictionary[i] + \" \"\n",
        "  return out\n",
        "\n",
        "\n",
        "#--------------------------------\n",
        "# spam data : enter your data here \n",
        "#--------------------------------\n",
        "X = np.array([\n",
        "  [1,1,1,1,0,0,0,0,0,0,0,0,0,0], #congrats you are selected : No Spam\n",
        "  [1,1,0,0,1,1,0,0,0,0,0,0,0,0], #congrats you won lottery : Spam\n",
        "  [0,0,0,0,0,0,1,1,1,0,0,0,0,0], #travel for free : Spam\n",
        "  [0,0,0,0,0,0,0,0,0,1,0,0,1,0], #good credit : No Spam\n",
        "  [0,0,0,1,0,0,0,1,0,1,1,0,0,0], #selected for credit cards : Spam\n",
        "  [0,0,0,0,0,0,0,0,0,0,0,1,1,0], #very good : No Spam\n",
        "  [0,0,0,0,0,0,0,0,1,1,1,0,0,0], #free credit cards : Spam\n",
        "  [0,0,0,0,0,0,0,0,0,0,0,0,1,1], #good night : No Spam\n",
        "  [0,0,0,0,0,1,0,0,0,0,0,0,0,0], #lottery : Spam\n",
        "  [0,1,0,0,0,0,0,1,0,0,0,0,1,0], #good for you : No Spam\n",
        "])\n",
        "\n",
        "y = np.array([0, 1, 1, 0, 1, 0, 1, 0, 1, 0])\n",
        "\n",
        "clf = MultinomialNB()\n",
        "clf.fit(X, y)\n",
        "\n",
        "print(\"Score (accuracy: 1.0 = 100%)= \",end=\"\")\n",
        "print(clf.score(X,y))\n",
        "\n",
        "print(\"Spam test: you won cards: vector=\",end=\"\")\n",
        "test_nsp = np.array([[0,1,0,0,1,0,0,0,0,0,1,0,0,0]])\n",
        "\n",
        "print(vec2word(test_nsp[0]))\n",
        "print(clf.predict(test_nsp))\n",
        "print(clf.predict_proba(test_nsp))\n",
        "\n",
        "print(\"\")\n",
        "print(\"Spam test: Congrats you are free: vector=\",end=\"\")\n",
        "test_sp = np.array([[1,1,1,0,0,0,0,0,1,0,0,0,0,0]])\n",
        "print(vec2word(test_sp[0]))\n",
        "\n",
        "print(clf.predict(test_sp))\n",
        "print(clf.predict_proba(test_sp)) \n"
      ],
      "execution_count": null,
      "outputs": [
        {
          "output_type": "stream",
          "name": "stdout",
          "text": [
            "Score (accuracy: 1.0 = 100%)= 1.0\n",
            "Spam test: you won cards: vector=[0 1 0 0 1 0 0 0 0 0 1 0 0 0]\n",
            "you won cards \n",
            "[1]\n",
            "[[0.23650857 0.76349143]]\n",
            "\n",
            "Spam test: Congrats you are free: vector=[1 1 1 0 0 0 0 0 1 0 0 0 0 0]\n",
            "congrats you are free \n",
            "[0]\n",
            "[[0.57097638 0.42902362]]\n"
          ]
        }
      ]
    },
    {
      "cell_type": "markdown",
      "source": [
        "2.\n",
        "Three \"Spam\" Test Case sentences :\n",
        "* Test Case 1 : \"you won travel for free cards\"\n",
        "* Test Case 2 : \"congrats you won free credit cards\"\n",
        "* Test Case 3 : \"lottery for free credit cards\" "
      ],
      "metadata": {
        "id": "ncbVPVHLQyEH"
      }
    },
    {
      "cell_type": "code",
      "source": [
        "#******* SPAM TEST CASES ***********\n",
        "\n",
        "# 1. \"you won travel for free cards\"\n",
        "print (\"Test Case 1\")\n",
        "test_sp2 = np.array([[0,1,0,0,1,0,1,1,1,0,1,0,0,0]])\n",
        "print(vec2word(test_sp2[0]))\n",
        "print(clf.predict(test_sp2))\n",
        "print(clf.predict_proba(test_sp2))\n",
        "\n",
        "# 2. \"congrats you won free credit cards\"\n",
        "print (\"\\nTest Case 2\")\n",
        "test_sp1 = np.array([[1,1,0,0,1,0,0,0,1,1,1,0,0,0]])\n",
        "print(vec2word(test_sp1[0]))\n",
        "print(clf.predict(test_sp1))\n",
        "print(clf.predict_proba(test_sp1))\n",
        "\n",
        "# 3. \"lottery for free credit cards\"\n",
        "print (\"\\nTest Case 3\")\n",
        "test_sp3 = np.array([[0,0,0,0,0,1,0,1,1,1,1,0,0,0]])\n",
        "print(vec2word(test_sp3[0]))\n",
        "print(clf.predict(test_sp3))\n",
        "print(clf.predict_proba(test_sp3))"
      ],
      "metadata": {
        "colab": {
          "base_uri": "https://localhost:8080/"
        },
        "id": "UOB8r4S2QzGP",
        "outputId": "ae21ae3a-4119-47f5-b4ee-330ad470b706"
      },
      "execution_count": null,
      "outputs": [
        {
          "output_type": "stream",
          "name": "stdout",
          "text": [
            "Test Case 1\n",
            "[0 1 0 0 1 0 1 1 1 0 1 0 0 0]\n",
            "you won travel for free cards \n",
            "[1]\n",
            "[[0.04090393 0.95909607]]\n",
            "\n",
            "Test Case 2\n",
            "[1 1 0 0 1 0 0 0 1 1 1 0 0 0]\n",
            "congrats you won free credit cards \n",
            "[1]\n",
            "[[0.07859309 0.92140691]]\n",
            "\n",
            "Test Case 3\n",
            "[0 0 0 0 0 1 0 1 1 1 1 0 0 0]\n",
            "lottery for free credit cards \n",
            "[1]\n",
            "[[0.02298922 0.97701078]]\n"
          ]
        }
      ]
    },
    {
      "cell_type": "markdown",
      "source": [
        "(3) Three \"Not Spam\" Test Case sentences :\n",
        "\n",
        "* Test Case 1 : \"congrats you are selected for good night\"\n",
        "* Test Case 2 : \"congrats you for very good night\"\n",
        "* Test Case 3 : \"very good you are selected\""
      ],
      "metadata": {
        "id": "7ol_nUSjQ4Vr"
      }
    },
    {
      "cell_type": "code",
      "source": [
        "#******* NON SPAM TEST CASES ***********\n",
        "\n",
        "# 1. congrats you are selected for good night \n",
        "print (\"Test Case 1\")\n",
        "test_nsp1 = np.array([[0,1,1,1,0,0,0,1,0,0,0,0,1,1]])\n",
        "print(vec2word(test_nsp1[0]))\n",
        "print(clf.predict(test_nsp1))\n",
        "print(clf.predict_proba(test_nsp1))\n",
        "\n",
        "\n",
        "# 2. \"congrats you for very good night\"\n",
        "print (\"\\nTest Case 2\")\n",
        "test_nsp2 = np.array([[1,1,0,0,0,0,0,1,0,0,0,1,1,1]])\n",
        "print(vec2word(test_nsp2[0]))\n",
        "print(clf.predict(test_nsp2))\n",
        "print(clf.predict_proba(test_nsp2))\n",
        "\n",
        "# 3. \"very good you are selected\"\n",
        "print (\"\\nTest Case 3\")\n",
        "test_nsp3 = np.array([[0,1,1,1,0,0,0,0,0,0,0,1,1,0]])\n",
        "print(vec2word(test_nsp3[0]))\n",
        "print(clf.predict(test_nsp3))\n",
        "print(clf.predict_proba(test_nsp3))\n"
      ],
      "metadata": {
        "colab": {
          "base_uri": "https://localhost:8080/"
        },
        "id": "timZIVwJQ3hF",
        "outputId": "56055afb-0ecc-48e5-ffea-9b034c3d257b"
      },
      "execution_count": null,
      "outputs": [
        {
          "output_type": "stream",
          "name": "stdout",
          "text": [
            "Test Case 1\n",
            "[0 1 1 1 0 0 0 1 0 0 0 0 1 1]\n",
            "you are selected for good night \n",
            "[0]\n",
            "[[0.96846108 0.03153892]]\n",
            "\n",
            "Test Case 2\n",
            "[1 1 0 0 0 0 0 1 0 0 0 1 1 1]\n",
            "congrats you for very good night \n",
            "[0]\n",
            "[[0.96846108 0.03153892]]\n",
            "\n",
            "Test Case 3\n",
            "[0 1 1 1 0 0 0 0 0 0 0 1 1 0]\n",
            "you are selected very good \n",
            "[0]\n",
            "[[0.9772125 0.0227875]]\n"
          ]
        }
      ]
    },
    {
      "cell_type": "markdown",
      "source": [
        "4.\n",
        "Scaling up this type of technology to a fully working spam filter for real-world applications can be difficult. Because the characteristic of the spams has an interdependent nature that interferes with the conditional independence requirement of the algorithm and so violates it, the Naive Bayes Classifiers occasionally produce faults or errors while categorizing the phrases. It might function unexpectedly well, but that isn't usually the case.\n",
        "Threshold values and the default spam likelihood are only two examples of the outcomes that may be computed using Naive Bayes. The training set's vocabulary contains several terms that might occasionally be mutually exclusive; they could also mean various things depending on the circumstance, which could result in misclassification. If none of the training instances with target values $v_j$ have attribute value $a_i$ then $$\\hat{P}(a_i|v_j) = 0$$ and $$\\hat{P}(v_j)\\prod_i\\hat{P}(a_i|v_j) = 0$$ thus the Bayesian estimate for $$\\hat{P}(a_i|v_j) = \\frac{n_c + mp}{n+m}$$"
      ],
      "metadata": {
        "id": "gHsiZLvSQ-E3"
      }
    },
    {
      "cell_type": "markdown",
      "metadata": {
        "id": "TFGRjOOnhK0S"
      },
      "source": [
        "# Section IV: Local Methods"
      ]
    },
    {
      "cell_type": "markdown",
      "metadata": {
        "id": "vEZu1pVl_y0H"
      },
      "source": [
        "**Problem 7 (Written: 15 pts)**\n",
        "\n",
        "The SOM, given an input vector $\\vec{x}$ and the best matching unit index $i(\\vec{x})$, the learning rule for the reference vector for unit $j$ is:\n",
        "$$ \\vec{w}_j \\leftarrow \\vec{w}_j + \\eta h(j,i(\\vec{x}))(\\vec{x} - \\vec{w}_j) $$\n",
        "\n",
        "- The learning rate is fixed $\\eta = 1$.\n",
        "\n",
        "- Let $h(j,i(\\vec{x})) = 1$, for the best matching unit $j=i(\\vec{x})$, $h(j,i(\\vec{x})) = \\frac{2}{3}$ for its immediate neighbor ($j = i(\\vec{x})\\pm1$) and $h(j,i(\\vec{x})) = \\frac{1}{3}$ for its second-order neighbor ($j = i(\\vec{x})\\pm2$). For all the rest, $h(j,i(\\vec{x})) =0$.\n",
        "\n",
        "(1) Consider a 1-D SOM with 7 units with the following weight vectors.\n",
        "Plot the vectors and connect them according to the order given below ($\\vec{w}_1$ connected to $\\vec{w}_2$, etc.).\n",
        ">  $\\vec{w}$ | $w_1$ | $w_2$\n",
        "> --- | --- | ---\n",
        "> $\\vec{w}_1$ | 2 | 0\n",
        "> $\\vec{w}_2$ | 6 | 6\n",
        "> $\\vec{w}_3$ | 1 | 4\n",
        "> $\\vec{w}_4$ | 3 | 6\n",
        "> $\\vec{w}_5$ | 1 | 1\n",
        "> $\\vec{w}_6$ | 6 | 2\n",
        "> $\\vec{w}_7$ | 5 | 4\n",
        "\n",
        "(2) Given an input vector $\\vec{x} = (2,6)$, plot how the weight vectors change after one iteration of training. Plot in the same graph as (1) above."
      ]
    },
    {
      "cell_type": "markdown",
      "metadata": {
        "id": "M5WrZj2wgV-Q"
      },
      "source": [
        "**Answer:**\n",
        "\n",
        "(1) Show the plot\n",
        "\n",
        "(2) Show the plot \n",
        "\n",
        "You may use a code cell to plot the above.\n"
      ]
    },
    {
      "cell_type": "code",
      "source": [
        "import numpy as np\n",
        "import math\n",
        "import matplotlib.pyplot as plt\n",
        "import sys\n",
        "\n",
        "\n",
        "# weight vectors\n",
        "w = np.array([[2.0,0.0],[6.0,6.0],[1.0,4.0],[3.0,6.0],[1.0,1.0],[6.0,2.0],[5.0,4.0]])\n",
        "plt.plot(w[:,0],w[:,1])\n",
        "#plt.show()\n",
        "\n",
        "eta = 1\n",
        "input=[2,6]\n",
        "\n",
        "# dictionary for storing the euclidean distances\n",
        "eucl_dis = []\n",
        "\n",
        "curr_min_dis = sys.maxsize\n",
        "curr_min_idx = -1\n",
        "for i in range(7):\n",
        "  dis = math.sqrt((input[0] - w[i][0])**2 + (input[1] - w[i][1]) ** 2)\n",
        "  eucl_dis.append(dis)\n",
        "  if (dis<curr_min_dis):\n",
        "    curr_min_dis = dis\n",
        "    curr_min_idx = i\n",
        "\n",
        "print(\"Euclidean distances:\", eucl_dis)\n",
        "print(\"Index:\",curr_min_idx)\n",
        "\n",
        "# assigning H values to neighbors as per problem description\n",
        "h=[0]*7\n",
        "h[curr_min_idx] =1\n",
        "h[curr_min_idx+1] = 2/3\n",
        "h[curr_min_idx-1] = 2/3\n",
        "h[curr_min_idx+2] = 1/3\n",
        "h[curr_min_idx-2] = 1/3\n",
        "\n",
        "\n",
        "# updating the weights\n",
        "for i in range(7):\n",
        "  w[i]+=eta*h[i]*(input-w[i])\n",
        "\n",
        "plt.plot(w[:,0],w[:,1])\n",
        "plt.plot([2], [6], marker='x', color=\"black\", markersize=15)"
      ],
      "metadata": {
        "colab": {
          "base_uri": "https://localhost:8080/",
          "height": 319
        },
        "id": "6I7HHKLnYK58",
        "outputId": "d16b10ae-ffe9-4e25-9b92-dd18bfaadda3"
      },
      "execution_count": null,
      "outputs": [
        {
          "output_type": "stream",
          "name": "stdout",
          "text": [
            "Euclidean distances: [6.0, 4.0, 2.23606797749979, 1.0, 5.0990195135927845, 5.656854249492381, 3.605551275463989]\n",
            "Index: 3\n"
          ]
        },
        {
          "output_type": "execute_result",
          "data": {
            "text/plain": [
              "[<matplotlib.lines.Line2D at 0x7f35c4a1ed00>]"
            ]
          },
          "metadata": {},
          "execution_count": 10
        },
        {
          "output_type": "display_data",
          "data": {
            "text/plain": [
              "<Figure size 432x288 with 1 Axes>"
            ],
            "image/png": "[encoded data removed]"
          },
          "metadata": {
            "needs_background": "light"
          }
        }
      ]
    },
    {
      "cell_type": "markdown",
      "metadata": {
        "id": "yw8DSNU7k7Uj"
      },
      "source": [
        "**Problem 8 (Written: 10pts)**\n",
        "\n",
        "(1) In radial basis function networks, among (a) the RBF units, (b) output units, and (c) RBF-to-output connections, which part is associated the most with  \"local\" in \"local learning\"? Explain why. [5pt]\n",
        "\n",
        "(2) In radial basis function networks, among (a) parameters of the RBF units (center and variance) and (b) RBF-to-output connection weights, which one can be learned in one-shot, without many iterations? Explain why. [5pt] "
      ]
    },
    {
      "cell_type": "markdown",
      "source": [
        "(1) **Option A - RBF Units** \n",
        "\n",
        "In local learning, the RBF modules are typically linked to local. An RBF activation function can be connected to each input in the input space. It is possible to connect the input to the strongest local RBF activation function in this way. Due to the fact that each RBF unit only makes up a small piece of the network and that its centers and spreads may all be affected by various inputs, each unit learns locally and exhibits a unique behavior. Spread is what standard deviation is all about.\n",
        "\n",
        "(2) **Option B - RBF-to-output connection weights**\n",
        "\n",
        "RBF-to-output connections weights can be learned in a single step without requiring numerous iterations because the last layer (output) is a linear layer and hence we may learn these weights using pseudo inverse. Examining the RBF network with predicted values for cluster m and radius s along with inputs from $x$ to $p$ is a good idea. The pseudo inverse can be used to calculate p to output weights w in a single step where output units are typically linear units. In this instance, there are n RBF activation values. Each input vector, each H RBF unit, and each m output unit work together to provide the RBF activation values for each row in P.\n",
        "\n",
        "1.   $n=H$, hence P is a square matrix and we multiply $P^{-1}$ on both the sides to obtain the following equation\n",
        "\n",
        "    $$w = P^{-1}y$$\n",
        "\n",
        "2.   $n>H$, means P is not a square matrix and we use psuedo inverse to calculate $w$. Multiply $(P^{T}P)^{-1}P^{T}$ on both sides\n",
        "\n",
        "    $$(P^{T}P)^{-1}P^{T}Pw = (P^{T}P)^{-1}P^{T}y$$\n",
        "\n",
        "    We know that $$(P^{T})^{-1}P^{T} = I = P^{-1}P$$\n",
        "\n",
        "    $$P^{-1}(P^{T})^{-1}P^{T}Pw = (P^{T}P)^{-1}P^{T}y$$\n",
        "\n",
        "    $$P^{-1}Pw = (P^{T}P)^{-1}P^{T}y$$\n",
        "\n",
        "    $$w = (P^{T}P)^{-1}P^{T}y$$\n",
        "\n",
        "Weights can be calculated using this formula in a single step without the need for iterations."
      ],
      "metadata": {
        "id": "KVKayShK7ZIN"
      }
    }
  ]
}